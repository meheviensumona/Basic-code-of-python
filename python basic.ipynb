{
 "cells": [
  {
   "cell_type": "markdown",
   "metadata": {},
   "source": [
    "# Basic Python"
   ]
  },
  {
   "cell_type": "code",
   "execution_count": 1,
   "metadata": {},
   "outputs": [
    {
     "name": "stdout",
     "output_type": "stream",
     "text": [
      "Hello world\n"
     ]
    }
   ],
   "source": [
    "print('Hello world')"
   ]
  },
  {
   "cell_type": "code",
   "execution_count": 23,
   "metadata": {},
   "outputs": [
    {
     "name": "stdout",
     "output_type": "stream",
     "text": [
      "hello world\n",
      "hello world\n",
      "hello world\n"
     ]
    }
   ],
   "source": [
    "print('hello world')\n",
    "print('hello world')\n",
    "print('hello world')"
   ]
  },
  {
   "cell_type": "markdown",
   "metadata": {},
   "source": [
    "# Represent new line"
   ]
  },
  {
   "cell_type": "code",
   "execution_count": 25,
   "metadata": {},
   "outputs": [
    {
     "name": "stdout",
     "output_type": "stream",
     "text": [
      "hello world\n",
      "\n",
      "\n",
      "hello world\n",
      "hello world\n"
     ]
    }
   ],
   "source": [
    "print('hello world')\n",
    "print(\"\\n\")\n",
    "print('hello world')\n",
    "print('hello world')"
   ]
  },
  {
   "cell_type": "code",
   "execution_count": 10,
   "metadata": {},
   "outputs": [
    {
     "name": "stdout",
     "output_type": "stream",
     "text": [
      "a= @@@ 3"
     ]
    }
   ],
   "source": [
    "a =3\n",
    "print(\"a= \",a, sep='@@@ ', end='')"
   ]
  },
  {
   "cell_type": "code",
   "execution_count": 11,
   "metadata": {},
   "outputs": [
    {
     "name": "stdout",
     "output_type": "stream",
     "text": [
      "50\n"
     ]
    }
   ],
   "source": [
    "x = 50;\n",
    "print(x)"
   ]
  },
  {
   "cell_type": "code",
   "execution_count": 12,
   "metadata": {},
   "outputs": [
    {
     "name": "stdout",
     "output_type": "stream",
     "text": [
      "30\n"
     ]
    }
   ],
   "source": [
    "x = 10;\n",
    "y = 20;\n",
    "c = x+y;\n",
    "print(c)"
   ]
  },
  {
   "cell_type": "markdown",
   "metadata": {},
   "source": [
    "# File location"
   ]
  },
  {
   "cell_type": "code",
   "execution_count": 21,
   "metadata": {},
   "outputs": [],
   "source": [
    "import os "
   ]
  },
  {
   "cell_type": "code",
   "execution_count": 22,
   "metadata": {},
   "outputs": [
    {
     "data": {
      "text/plain": [
       "'C:\\\\Users\\\\DOLPHIN\\\\Untitled Folder'"
      ]
     },
     "execution_count": 22,
     "metadata": {},
     "output_type": "execute_result"
    }
   ],
   "source": [
    "os.getcwd()"
   ]
  },
  {
   "cell_type": "markdown",
   "metadata": {},
   "source": [
    "# length"
   ]
  },
  {
   "cell_type": "code",
   "execution_count": 24,
   "metadata": {},
   "outputs": [
    {
     "name": "stdout",
     "output_type": "stream",
     "text": [
      "6\n"
     ]
    }
   ],
   "source": [
    "x = 'python'\n",
    "y= len(x)\n",
    "print(y)"
   ]
  },
  {
   "cell_type": "markdown",
   "metadata": {},
   "source": [
    "# Capitalize"
   ]
  },
  {
   "cell_type": "code",
   "execution_count": 27,
   "metadata": {},
   "outputs": [
    {
     "name": "stdout",
     "output_type": "stream",
     "text": [
      "Hello\n"
     ]
    }
   ],
   "source": [
    "x = 'hello'\n",
    "y = x.capitalize()\n",
    "print(y)"
   ]
  },
  {
   "cell_type": "code",
   "execution_count": 28,
   "metadata": {},
   "outputs": [
    {
     "name": "stdout",
     "output_type": "stream",
     "text": [
      "HELLO\n"
     ]
    }
   ],
   "source": [
    "y = x.upper()\n",
    "print(y)"
   ]
  },
  {
   "cell_type": "markdown",
   "metadata": {},
   "source": [
    "# Swapcase"
   ]
  },
  {
   "cell_type": "code",
   "execution_count": 35,
   "metadata": {},
   "outputs": [
    {
     "name": "stdout",
     "output_type": "stream",
     "text": [
      "mehevien sumona\n"
     ]
    }
   ],
   "source": [
    "p = 'MEHEVIEN SUMONA'\n",
    "q = p.swapcase()\n",
    "print(q)"
   ]
  },
  {
   "cell_type": "code",
   "execution_count": 38,
   "metadata": {},
   "outputs": [
    {
     "data": {
      "text/plain": [
       "'MEHEVIEN SUMONA'"
      ]
     },
     "execution_count": 38,
     "metadata": {},
     "output_type": "execute_result"
    }
   ],
   "source": [
    "q.swapcase()"
   ]
  },
  {
   "cell_type": "code",
   "execution_count": 39,
   "metadata": {},
   "outputs": [
    {
     "name": "stdout",
     "output_type": "stream",
     "text": [
      "harry has 8 apples\n"
     ]
    }
   ],
   "source": [
    "name =\"harry\"\n",
    "mango = 8\n",
    "print(\"%s has %i mango\" %(name,mango))"
   ]
  },
  {
   "cell_type": "code",
   "execution_count": 41,
   "metadata": {},
   "outputs": [
    {
     "name": "stdout",
     "output_type": "stream",
     "text": [
      "Mehevein has 4 mango\n"
     ]
    }
   ],
   "source": [
    "name =\"Mehevein\"\n",
    "mango =4\n",
    "print(\"%s has %i mango\" %(name, mango))"
   ]
  },
  {
   "cell_type": "code",
   "execution_count": 49,
   "metadata": {},
   "outputs": [
    {
     "name": "stdout",
     "output_type": "stream",
     "text": [
      "karim has 3 apples\n"
     ]
    }
   ],
   "source": [
    "name = \"karim\"\n",
    "apples = 3\n",
    "x= \"{0} has {1} apples\".format(name,apples)\n",
    "print(x)"
   ]
  },
  {
   "cell_type": "code",
   "execution_count": 55,
   "metadata": {},
   "outputs": [
    {
     "name": "stdout",
     "output_type": "stream",
     "text": [
      "othoy has 3 mango and 5 apples\n"
     ]
    }
   ],
   "source": [
    "name= \"othoy\"\n",
    "apples = 3\n",
    "mango = 5\n",
    "x =\"{0} has {1} mango and {2} apples!\".format(name,apples,mango)\n",
    "print(x)"
   ]
  },
  {
   "cell_type": "code",
   "execution_count": 56,
   "metadata": {},
   "outputs": [
    {
     "name": "stdout",
     "output_type": "stream",
     "text": [
      "kamal has 3 apples\n"
     ]
    }
   ],
   "source": [
    "name =\"kamal\"\n",
    "print(f\"{name} has {apples} apples\")"
   ]
  },
  {
   "cell_type": "markdown",
   "metadata": {},
   "source": [
    "# user Input"
   ]
  },
  {
   "cell_type": "code",
   "execution_count": 1,
   "metadata": {},
   "outputs": [
    {
     "name": "stdout",
     "output_type": "stream",
     "text": [
      "Enter your name:Mehevien sumona\n",
      "Mehevien sumona\n"
     ]
    }
   ],
   "source": [
    "a = input(\"Enter your name:\")\n",
    "print(a)"
   ]
  },
  {
   "cell_type": "code",
   "execution_count": 1,
   "metadata": {
    "scrolled": true
   },
   "outputs": [
    {
     "name": "stdout",
     "output_type": "stream",
     "text": [
      "Enter name:Royal university of Dhaka\n",
      "Royal university of Dhaka\n"
     ]
    }
   ],
   "source": [
    "x = str(input(\"Enter name:\"))\n",
    "print(x)"
   ]
  },
  {
   "cell_type": "code",
   "execution_count": 7,
   "metadata": {},
   "outputs": [
    {
     "name": "stdout",
     "output_type": "stream",
     "text": [
      "Enter integer number:323\n",
      "323\n"
     ]
    }
   ],
   "source": [
    "x = int(input(\"Enter integer number:\"))\n",
    "print(x)"
   ]
  },
  {
   "cell_type": "code",
   "execution_count": 6,
   "metadata": {},
   "outputs": [
    {
     "name": "stdout",
     "output_type": "stream",
     "text": [
      "Enter floating number:44.55\n",
      "44.55\n"
     ]
    }
   ],
   "source": [
    "x = float(input(\"Enter floating number:\"))\n",
    "print(x)"
   ]
  },
  {
   "cell_type": "markdown",
   "metadata": {},
   "source": [
    "# Data Type"
   ]
  },
  {
   "cell_type": "code",
   "execution_count": 9,
   "metadata": {},
   "outputs": [
    {
     "data": {
      "text/plain": [
       "int"
      ]
     },
     "execution_count": 9,
     "metadata": {},
     "output_type": "execute_result"
    }
   ],
   "source": [
    "x = 1111\n",
    "type(x)"
   ]
  },
  {
   "cell_type": "code",
   "execution_count": 10,
   "metadata": {},
   "outputs": [
    {
     "data": {
      "text/plain": [
       "str"
      ]
     },
     "execution_count": 10,
     "metadata": {},
     "output_type": "execute_result"
    }
   ],
   "source": [
    "x =\"nila\"\n",
    "type(x)"
   ]
  },
  {
   "cell_type": "code",
   "execution_count": 15,
   "metadata": {},
   "outputs": [
    {
     "data": {
      "text/plain": [
       "float"
      ]
     },
     "execution_count": 15,
     "metadata": {},
     "output_type": "execute_result"
    }
   ],
   "source": [
    "x = 33.33\n",
    "type(x)"
   ]
  },
  {
   "cell_type": "code",
   "execution_count": 21,
   "metadata": {},
   "outputs": [
    {
     "data": {
      "text/plain": [
       "bool"
      ]
     },
     "execution_count": 21,
     "metadata": {},
     "output_type": "execute_result"
    }
   ],
   "source": [
    "a = True\n",
    "type(a)"
   ]
  },
  {
   "cell_type": "code",
   "execution_count": 22,
   "metadata": {},
   "outputs": [
    {
     "data": {
      "text/plain": [
       "bool"
      ]
     },
     "execution_count": 22,
     "metadata": {},
     "output_type": "execute_result"
    }
   ],
   "source": [
    "b = False\n",
    "type(b)"
   ]
  },
  {
   "cell_type": "markdown",
   "metadata": {},
   "source": [
    "# physical layout address"
   ]
  },
  {
   "cell_type": "code",
   "execution_count": 13,
   "metadata": {},
   "outputs": [
    {
     "data": {
      "text/plain": [
       "1909122921200"
      ]
     },
     "execution_count": 13,
     "metadata": {},
     "output_type": "execute_result"
    }
   ],
   "source": [
    "x = \"oboni\"\n",
    "id(x)     "
   ]
  },
  {
   "cell_type": "code",
   "execution_count": 14,
   "metadata": {},
   "outputs": [
    {
     "data": {
      "text/plain": [
       "1909122916560"
      ]
     },
     "execution_count": 14,
     "metadata": {},
     "output_type": "execute_result"
    }
   ],
   "source": [
    "y = 333\n",
    "id(y)"
   ]
  },
  {
   "cell_type": "markdown",
   "metadata": {},
   "source": [
    "# join function"
   ]
  },
  {
   "cell_type": "code",
   "execution_count": 26,
   "metadata": {},
   "outputs": [
    {
     "name": "stdout",
     "output_type": "stream",
     "text": [
      "Royal University of Dhaka\n"
     ]
    }
   ],
   "source": [
    "a =['Royal', 'University', 'of','Dhaka']\n",
    "x = ' ' .join(a)\n",
    "print(x)"
   ]
  },
  {
   "cell_type": "code",
   "execution_count": 28,
   "metadata": {},
   "outputs": [
    {
     "name": "stdout",
     "output_type": "stream",
     "text": [
      "['Royal', 'university', 'of', 'Dhaka']\n"
     ]
    }
   ],
   "source": [
    "a = \"Royal university of Dhaka\"\n",
    "x = a.split()\n",
    "print(x)"
   ]
  },
  {
   "cell_type": "code",
   "execution_count": 29,
   "metadata": {},
   "outputs": [
    {
     "name": "stdout",
     "output_type": "stream",
     "text": [
      "['sumona']\n"
     ]
    }
   ],
   "source": [
    "a = \"sumona\"\n",
    "x = a.split()\n",
    "print(x)"
   ]
  },
  {
   "cell_type": "code",
   "execution_count": 33,
   "metadata": {},
   "outputs": [
    {
     "name": "stdout",
     "output_type": "stream",
     "text": [
      "['Search', 'Engine', 'Optimization']\n"
     ]
    }
   ],
   "source": [
    "a = \"Search Engine Optimization\"\n",
    "a= a.split()\n",
    "print(a)"
   ]
  },
  {
   "cell_type": "markdown",
   "metadata": {},
   "source": [
    "# if-else"
   ]
  },
  {
   "cell_type": "code",
   "execution_count": 34,
   "metadata": {},
   "outputs": [
    {
     "name": "stdout",
     "output_type": "stream",
     "text": [
      "y is greater than x\n"
     ]
    }
   ],
   "source": [
    "x = 30\n",
    "y =50\n",
    "if x>y:\n",
    "    print('x is greater than y')\n",
    "else:\n",
    "    print('y is greater than x')"
   ]
  },
  {
   "cell_type": "code",
   "execution_count": 38,
   "metadata": {},
   "outputs": [
    {
     "name": "stdout",
     "output_type": "stream",
     "text": [
      "y is large number\n"
     ]
    }
   ],
   "source": [
    "x = 20\n",
    "y =70\n",
    "z = 20\n",
    "if x>y and x>z:\n",
    "    print('x is the large number')\n",
    "elif y>x and y>z:\n",
    "    print('y is large number')\n",
    "else:\n",
    "    print('z is large number')\n"
   ]
  },
  {
   "cell_type": "code",
   "execution_count": 42,
   "metadata": {},
   "outputs": [
    {
     "name": "stdout",
     "output_type": "stream",
     "text": [
      "Enter the value of x:44\n",
      "Enter the value of y:44\n",
      "Enter the value of z:44\n",
      "x y x are equal\n"
     ]
    }
   ],
   "source": [
    "x = int(input(\"Enter the value of x:\"))\n",
    "y = int(input(\"Enter the value of y:\"))\n",
    "z= int(input(\"Enter the value of z:\"))\n",
    "if x>y and x>z:\n",
    "    print('x is the large number')\n",
    "elif y>x and y>z:\n",
    "    print('y is large number')\n",
    "elif y==x and y==z:\n",
    "    print('x y x are equal')\n",
    "else:\n",
    "    print('z is large number')"
   ]
  },
  {
   "cell_type": "code",
   "execution_count": 66,
   "metadata": {},
   "outputs": [
    {
     "name": "stdout",
     "output_type": "stream",
     "text": [
      "Enter number of mark in bangla:50\n",
      "Enter number of mark in English:60\n",
      "Enter number of mark in Math:80\n",
      "Bangla: B+\n",
      "English: A-\n",
      "Math: A+\n"
     ]
    }
   ],
   "source": [
    "Bangla = int(input(\"Enter number of mark in bangla:\"))\n",
    "English = int(input(\"Enter number of mark in English:\"))\n",
    "Math = int(input(\"Enter number of mark in Math:\"))\n",
    "\n",
    "if Bangla>=80:\n",
    "    print('A+')\n",
    "elif Bangla>=70 and Bangla<=79:\n",
    "    print('Bangla: A')\n",
    "elif Bangla>=60 and Bangla<=69:\n",
    "    print('Bangla: A-')\n",
    "elif Bangla>=50 and Bangla<=59:\n",
    "    print('Bangla: B+')\n",
    "elif Bangla>=40 and Bangla<=49:\n",
    "    print('Bangla: c')\n",
    "elif Bangla>=33 and Bangla<=39:\n",
    "    print('Bangla: d')\n",
    "elif Bangla>=0 and Bangla<=32:\n",
    "    print('Bangla: F')\n",
    "if English>=80:\n",
    "    print('English: A+')\n",
    "elif English>=70 and English<=79:\n",
    "    print('English: A')\n",
    "elif English>=60 and English<=69:\n",
    "    print('English: A-')\n",
    "elif English>=50 and English<=59:\n",
    "    print('English: B+')\n",
    "elif English>=40 and English<=49:\n",
    "    print('English: c')\n",
    "elif English>=33 and English<=39:\n",
    "    print('English: d')\n",
    "elif English>=0 and English<=32:\n",
    "    print('English: F')\n",
    "    \n",
    "if Math>=80:\n",
    "    print('Math: A+')\n",
    "elif Math>=70 and Math<=79:\n",
    "    print('Math: A')\n",
    "elif Math>=60 and Math<=69:\n",
    "    print('Math: A-')\n",
    "elif Math>=50 and Math<=59:\n",
    "    print('Math: B+')\n",
    "elif Math>=40 and Math<=49:\n",
    "    print('Math: c')\n",
    "elif Math>=33 and Math<=39:\n",
    "    print('Math: d')\n",
    "elif Math>=0 and Math<=32:\n",
    "    print('Math: F')\n"
   ]
  },
  {
   "cell_type": "markdown",
   "metadata": {},
   "source": [
    "# even odd number"
   ]
  },
  {
   "cell_type": "code",
   "execution_count": 45,
   "metadata": {},
   "outputs": [
    {
     "name": "stdout",
     "output_type": "stream",
     "text": [
      "Enter Integer number:31\n",
      "This is a odd number\n"
     ]
    }
   ],
   "source": [
    "x = int(input(\"Enter Integer number:\"))\n",
    "if x%2==0:\n",
    "    print('This is a even number')\n",
    "else:\n",
    "    print('This is a odd number')\n"
   ]
  },
  {
   "cell_type": "code",
   "execution_count": null,
   "metadata": {},
   "outputs": [],
   "source": []
  }
 ],
 "metadata": {
  "kernelspec": {
   "display_name": "Python 3",
   "language": "python",
   "name": "python3"
  },
  "language_info": {
   "codemirror_mode": {
    "name": "ipython",
    "version": 3
   },
   "file_extension": ".py",
   "mimetype": "text/x-python",
   "name": "python",
   "nbconvert_exporter": "python",
   "pygments_lexer": "ipython3",
   "version": "3.8.5"
  }
 },
 "nbformat": 4,
 "nbformat_minor": 4
}
